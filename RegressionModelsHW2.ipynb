{
  "nbformat": 4,
  "nbformat_minor": 0,
  "metadata": {
    "colab": {
      "provenance": [],
      "include_colab_link": true
    },
    "kernelspec": {
      "name": "python3",
      "display_name": "Python 3"
    },
    "language_info": {
      "name": "python"
    }
  },
  "cells": [
    {
      "cell_type": "markdown",
      "metadata": {
        "id": "view-in-github",
        "colab_type": "text"
      },
      "source": [
        "<a href=\"https://colab.research.google.com/github/PeterRoumeliotis/CUS615/blob/main/RegressionModelsHW2.ipynb\" target=\"_parent\"><img src=\"https://colab.research.google.com/assets/colab-badge.svg\" alt=\"Open In Colab\"/></a>"
      ]
    },
    {
      "cell_type": "markdown",
      "source": [
        "# Peter Roumeliotis\n",
        "# CUS615 - Homework 2"
      ],
      "metadata": {
        "id": "u9HWbUa8VyNA"
      }
    },
    {
      "cell_type": "markdown",
      "source": [
        "# Question 1\n",
        "\n",
        "Each p‐value in the table tests whether the TV, radio, or newspaper has no effect on sales. From the table, TV and radio both have very low p‐values, so we reject their null hypotheses and conclude that spending on TV and radio is  linked to higher sales. Newspaper, however, has a higher p‐value, which means we don’t have enough evidence to say newspaper spending affects sales that much.\n",
        "\n",
        "# Question 2\n",
        "\n",
        "KNN Classifier method predicts a category by looking at the most common class in the k closest neighbors.\n",
        "KNN Regression method predicts a numerical value by taking the average or the mean of the values of the k closest neighbors.\n",
        "\n",
        "# Question 3\n",
        "# a.\n",
        "iii. For a fixed value of IQ and GPA, high school graduates earn more on average than college graduates provided that the GPA is high enough.\n",
        "\n",
        "is correct because the model here is Salary=50+20xGPA+0.07xIQ+35xLevel+0.01x(GPAxIQ)−10x(GPAxLevel) and then from this we can get 35-10*GPA because the the levels are 1 for college grads and 0 for high school grads and the GPA and IQ are fixed. If the GPA is below 3.5 than it would be positive which means that college grads earn more but if the GPA is above 3.5 than it would be negative meaning that high school grads earn more.\n",
        "\n",
        "# b.\n",
        "\n",
        "Salary = 50+20xGPA+0.07xIQ+35xLevel+0.01x(GPAxIQ)-10x(GPAxLevel)\n",
        "\n",
        "Salary = 50+20x4.0+0.07x110+35x1+0.01x(4.0x110)-10x(4.0x1)\n",
        "\n",
        "= 50+80+7.7+35+4.4-40\n",
        "\n",
        "= 137.1\n",
        "\n",
        "= 137,100 dollars\n",
        "\n",
        "# c.\n",
        "\n",
        "False, just because the interaction coefficient is small does not mean it is not important and there is little evidence of interaction. If the GPA and IQ are large enough then a small number could matter. It also depends on p-values and confidence intervals. So we can't say that there is no interaction just because it is small.\n",
        "\n"
      ],
      "metadata": {
        "id": "9lWD3pzwQJ7B"
      }
    },
    {
      "cell_type": "markdown",
      "source": [
        "# Question 8\n",
        "# a)"
      ],
      "metadata": {
        "id": "ky4oBTlWd5x4"
      }
    },
    {
      "cell_type": "code",
      "source": [
        "import pandas as pd\n",
        "import matplotlib.pyplot as plt\n",
        "from google.colab import files\n",
        "import statsmodels.api as sm\n",
        "uploaded = files.upload()\n",
        "\n",
        "df = pd.read_csv('Auto.csv')\n",
        "\n",
        "X = df[['horsepower']]\n",
        "y = df['mpg']\n",
        "\n",
        "X = sm.add_constant(X)\n",
        "\n",
        "model = sm.OLS(y, X).fit()\n",
        "\n",
        "print(model.summary())\n"
      ],
      "metadata": {
        "id": "ZCxQik03RmBj"
      },
      "execution_count": null,
      "outputs": []
    },
    {
      "cell_type": "markdown",
      "source": [
        "# i.\n",
        "Yes there is a relationship becasue the p-value is very small meaning there is a significant relationship between horsepower and mpg\n",
        "# ii.\n",
        "The R-squared is around .60 which means the relationship is pretty strong\n",
        "# iii.\n",
        "The relationship is negative so cars with higher horsepower usually have lower mpg\n",
        "# iv.\n",
        "39.936 - .158 x 98 = 24.47\n",
        "\n",
        "95% confidence interval is (23.97, 24.96)\n",
        "\n",
        "95% prediction interval is (14.81, 34.13)\n",
        "\n",
        "# b)"
      ],
      "metadata": {
        "id": "o3t8lG5ybw8z"
      }
    },
    {
      "cell_type": "code",
      "source": [
        "plt.figure(figsize=(8, 5))\n",
        "plt.scatter(df['horsepower'], df['mpg'], alpha=0.7, label='Data')\n",
        "\n",
        "hp_sorted = pd.DataFrame({'horsepower': sorted(df['horsepower'])})\n",
        "hp_sorted = sm.add_constant(hp_sorted)\n",
        "mpg_pred_sorted = model.predict(hp_sorted)\n",
        "\n",
        "plt.plot(hp_sorted['horsepower'], mpg_pred_sorted, color='red', label='Regression line')\n",
        "plt.xlabel('Horsepower')\n",
        "plt.ylabel('MPG')\n",
        "plt.legend()\n",
        "plt.title('MPG vs. Horsepower with Fitted Regression Line')\n",
        "plt.show()\n"
      ],
      "metadata": {
        "id": "tABQI4fVV7oS"
      },
      "execution_count": null,
      "outputs": []
    },
    {
      "cell_type": "markdown",
      "source": [
        "# c)"
      ],
      "metadata": {
        "id": "UhfpmfusehKR"
      }
    },
    {
      "cell_type": "code",
      "source": [
        "fig = sm.graphics.plot_regress_exog(model, 'horsepower', fig=None)\n",
        "plt.show()"
      ],
      "metadata": {
        "id": "xGNsEGK1ejF9"
      },
      "execution_count": null,
      "outputs": []
    },
    {
      "cell_type": "markdown",
      "source": [
        "Comments on problems:"
      ],
      "metadata": {
        "id": "PebJaeFDeyDa"
      }
    }
  ]
}